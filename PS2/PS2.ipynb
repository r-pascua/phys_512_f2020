{
 "cells": [
  {
   "cell_type": "code",
   "execution_count": 3,
   "metadata": {
    "ExecuteTime": {
     "end_time": "2020-09-19T01:42:20.918091Z",
     "start_time": "2020-09-19T01:42:20.703500Z"
    }
   },
   "outputs": [],
   "source": [
    "import numpy as np\n",
    "import matplotlib.pyplot as plt\n",
    "from scipy import special\n",
    "%matplotlib inline"
   ]
  },
  {
   "cell_type": "markdown",
   "metadata": {},
   "source": [
    "## Problem 1"
   ]
  },
  {
   "cell_type": "code",
   "execution_count": 4,
   "metadata": {
    "ExecuteTime": {
     "end_time": "2020-09-19T03:28:00.301974Z",
     "start_time": "2020-09-19T03:28:00.283296Z"
    }
   },
   "outputs": [],
   "source": [
    "def recursive_integrate(func, start, stop, tol=1e-3, conserve_calls=True, old_yvals=None):\n",
    "    \"\"\"\n",
    "    Integrate a real-valued function using a variable step size. Adapted from class.\n",
    "    \n",
    "    Parameters\n",
    "    ----------\n",
    "    func: callable\n",
    "        Function to integrate; must take an ndarray as an argument and\n",
    "        return an ndarray of equal length to the input.\n",
    "    start: float\n",
    "        Start of the interval to integrate the function over.\n",
    "    stop: float\n",
    "        End of the interval to integrate the function over.\n",
    "    tol: float, optional\n",
    "        Maximum allowable error in the approximation of the integral. Default\n",
    "        is 0.001.\n",
    "    conserve_calls: bool, optional\n",
    "        Whether or not to reduce the number of points at which the provided\n",
    "        function is evaluated.\n",
    "    yvals: length-3 ndarray, optional\n",
    "        Not intended for use by the end user; only for reducing the number of\n",
    "        values at which func is evaluated.\n",
    "    \n",
    "    Returns\n",
    "    -------\n",
    "    integral: float\n",
    "        Numerical integral of the input function on the specified domain.\n",
    "    \"\"\"\n",
    "    # Partition the interval into four slices.\n",
    "    xvals = np.linspace(start, stop, 5)\n",
    "    width = stop - start\n",
    "    \n",
    "    # Only sample points that haven't yet been sampled *if care is desired*\n",
    "    if old_yvals is None:\n",
    "        yvals = func(xvals)\n",
    "    else:\n",
    "        yvals = np.empty(5)\n",
    "        yvals[::2] = old_yvals\n",
    "        yvals[1::2] = func(xvals[1::2])\n",
    "        \n",
    "    # Use Simpson's Rule to estimate the integral.\n",
    "    rough_weights = np.array([1, 4, 1]) / 6\n",
    "    fine_weights = np.array([1, 4, 2, 4, 1]) / 12\n",
    "    rough_integral = width * rough_weights @ yvals[::2]\n",
    "    fine_integral = width * fine_weights @ yvals\n",
    "    \n",
    "    # Estimate the error by comparing the rough partition to the finer partition.\n",
    "    error = np.abs(fine_integral - rough_integral)\n",
    "    if error < tol:\n",
    "        return fine_integral\n",
    "    else:\n",
    "        # Refine the partition and try again on each resulting half if needed.\n",
    "        midpoint = 0.5 * (start + stop)\n",
    "        first_yvals = yvals[:3] if conserve_calls else None\n",
    "        first_integral = recursive_integrate(\n",
    "            func, start, midpoint, 0.5 * tol, conserve_calls, first_yvals\n",
    "        )\n",
    "        second_yvals = yvals[2:] if conserve_calls else None\n",
    "        second_integral = recursive_integrate(\n",
    "            func, midpoint, stop, 0.5 * tol, conserve_calls, second_yvals\n",
    "        )\n",
    "        return first_integral + second_integral"
   ]
  },
  {
   "cell_type": "markdown",
   "metadata": {},
   "source": [
    "The above implementation might not be the best implementation for cutting down on the number of function calls, but it's the fastest of the different implementations I've tried, and also the most compact."
   ]
  },
  {
   "cell_type": "code",
   "execution_count": 5,
   "metadata": {
    "ExecuteTime": {
     "end_time": "2020-09-19T02:55:06.333768Z",
     "start_time": "2020-09-19T02:55:06.329592Z"
    }
   },
   "outputs": [
    {
     "name": "stdout",
     "output_type": "stream",
     "text": [
      "-7.350094585301115e-06\n"
     ]
    }
   ],
   "source": [
    "# Test it with something analytic. Let's do 1/x from 1 to 2.\n",
    "def monomial(x, degree):\n",
    "    \"\"\"Evaluate a monomial of a specified degree.\"\"\"\n",
    "    return x ** degree\n",
    "\n",
    "truth = np.log(2)\n",
    "estimate = recursive_integrate(lambda x: monomial(x, -1), 1, 2)\n",
    "error = truth - estimate\n",
    "print(error)"
   ]
  },
  {
   "cell_type": "markdown",
   "metadata": {
    "ExecuteTime": {
     "end_time": "2020-09-19T02:21:29.982571Z",
     "start_time": "2020-09-19T02:21:29.891611Z"
    }
   },
   "source": [
    "Let's do some timing tests to see if we actually get a speedup from not evaluating the function at points that have already been sampled."
   ]
  },
  {
   "cell_type": "code",
   "execution_count": 68,
   "metadata": {
    "ExecuteTime": {
     "end_time": "2020-09-19T03:26:53.143561Z",
     "start_time": "2020-09-19T03:26:48.583893Z"
    }
   },
   "outputs": [
    {
     "name": "stdout",
     "output_type": "stream",
     "text": [
      "556 µs ± 5.75 µs per loop (mean ± std. dev. of 7 runs, 1000 loops each)\n"
     ]
    }
   ],
   "source": [
    "%%timeit\n",
    "integral = recursive_integrate(lambda x: monomial(x, -1), 1, 10, conserve_calls=False)"
   ]
  },
  {
   "cell_type": "code",
   "execution_count": 69,
   "metadata": {
    "ExecuteTime": {
     "end_time": "2020-09-19T03:26:59.000810Z",
     "start_time": "2020-09-19T03:26:54.139196Z"
    }
   },
   "outputs": [
    {
     "name": "stdout",
     "output_type": "stream",
     "text": [
      "594 µs ± 2.89 µs per loop (mean ± std. dev. of 7 runs, 1000 loops each)\n"
     ]
    }
   ],
   "source": [
    "%%timeit\n",
    "integral = recursive_integrate(lambda x: monomial(x, -1), 1, 10, conserve_calls=True)"
   ]
  },
  {
   "cell_type": "markdown",
   "metadata": {},
   "source": [
    "This suggests that there's actually more computational overhead involved in avoiding repeated function calls than there are savings from the fewer x-values at which the function is evaluated. This might not hold for something more complicated, though. So let's do some exploring with different functions."
   ]
  },
  {
   "cell_type": "code",
   "execution_count": 70,
   "metadata": {
    "ExecuteTime": {
     "end_time": "2020-09-19T03:27:10.725489Z",
     "start_time": "2020-09-19T03:27:08.111281Z"
    }
   },
   "outputs": [
    {
     "name": "stdout",
     "output_type": "stream",
     "text": [
      "3.15 ms ± 72.1 µs per loop (mean ± std. dev. of 7 runs, 100 loops each)\n"
     ]
    }
   ],
   "source": [
    "%%timeit\n",
    "integral = recursive_integrate(lambda x: special.airy(x)[0], -10, 10, conserve_calls=False)"
   ]
  },
  {
   "cell_type": "code",
   "execution_count": 71,
   "metadata": {
    "ExecuteTime": {
     "end_time": "2020-09-19T03:27:14.318698Z",
     "start_time": "2020-09-19T03:27:11.463457Z"
    }
   },
   "outputs": [
    {
     "name": "stdout",
     "output_type": "stream",
     "text": [
      "3.48 ms ± 88.5 µs per loop (mean ± std. dev. of 7 runs, 100 loops each)\n"
     ]
    }
   ],
   "source": [
    "%%timeit\n",
    "integral = recursive_integrate(lambda x: special.airy(x)[0], -10, 10, conserve_calls=True)"
   ]
  },
  {
   "cell_type": "markdown",
   "metadata": {},
   "source": [
    "Looks like the airy function evaluation is efficient enough so that reducing the number of points the function is evaluated at does not give us more time than it costs to do the checking for reducing the number of calls."
   ]
  },
  {
   "cell_type": "code",
   "execution_count": 58,
   "metadata": {
    "ExecuteTime": {
     "end_time": "2020-09-19T02:57:48.081592Z",
     "start_time": "2020-09-19T02:57:48.070349Z"
    }
   },
   "outputs": [],
   "source": [
    "def clipped_sine(x):\n",
    "    \"\"\"Sine clipped to be between -0.5 and 0.5.\"\"\"\n",
    "    result = np.sin(x)\n",
    "    result = np.where(result > 0.5, 0.5, result)\n",
    "    result = np.where(result < -0.5, -0.5, result)\n",
    "    return result"
   ]
  },
  {
   "cell_type": "code",
   "execution_count": 67,
   "metadata": {
    "ExecuteTime": {
     "end_time": "2020-09-19T03:26:06.893193Z",
     "start_time": "2020-09-19T03:26:03.379384Z"
    }
   },
   "outputs": [
    {
     "name": "stdout",
     "output_type": "stream",
     "text": [
      "42.9 µs ± 451 ns per loop (mean ± std. dev. of 7 runs, 10000 loops each)\n"
     ]
    }
   ],
   "source": [
    "%%timeit\n",
    "integral = recursive_integrate(clipped_sine, -10, 10, conserve_calls=False)"
   ]
  },
  {
   "cell_type": "code",
   "execution_count": 66,
   "metadata": {
    "ExecuteTime": {
     "end_time": "2020-09-19T03:25:47.447590Z",
     "start_time": "2020-09-19T03:25:43.924497Z"
    }
   },
   "outputs": [
    {
     "name": "stdout",
     "output_type": "stream",
     "text": [
      "43.1 µs ± 592 ns per loop (mean ± std. dev. of 7 runs, 10000 loops each)\n"
     ]
    }
   ],
   "source": [
    "%%timeit\n",
    "integral = recursive_integrate(clipped_sine, -10, 10, conserve_calls=True)"
   ]
  },
  {
   "cell_type": "markdown",
   "metadata": {},
   "source": [
    "Hmmm... Still not complicated enough of a function for us to have an improvement in performance."
   ]
  },
  {
   "cell_type": "markdown",
   "metadata": {},
   "source": [
    "It seems like the moral of this story is that reducing the number of points the function is evaluated at does not provide us a performance boost for a large class of functions. I can see this being useful for something where evaluating the function is actually quite expensive&mdash;at least more expensive than creating and filling in a few buffer arrays, along with the extra logic needed to allow for the feature to be easily switched on or off. Either way, let's get an idea of how many computations we save by turning on the feature for not evaluating points we have already sampled.  \n",
    "  \n",
    "We always sample the function at least 5 times for the first iteration. Counting is a little tricky here, since this implementation is doubly recursive in a kind of weird way. Let's suppose our first iteration wasn't good enough, so we refine our partition and now calculate two more integrations, each with five sample points. So two iterations in, and we've gone from 5 samples to 15 samples. If we don't resample points that have already been sampled, then we instead have 9 samples, since each new iteration only adds two new points. In fact, each iteration beyond the first adds 10 more sample points if we aren't careful, but only adds 4 more if we are careful. So being careful saves us $6N$ samples of the function if we iterate $N$ times beyond the initial iteration. In other words, if we zero-index our recursion depth, then being careful about resampling saves us $6N$ evaluations of the function for a recursion depth of $N$."
   ]
  },
  {
   "cell_type": "markdown",
   "metadata": {},
   "source": [
    "## Problem 2"
   ]
  },
  {
   "cell_type": "code",
   "execution_count": 77,
   "metadata": {},
   "outputs": [],
   "source": [
    "def build_cheb_basis(xvals, order):\n",
    "    \"\"\"\n",
    "    Build a matrix of Chebyshev basis vectors evaluated at each provided x.\n",
    "    \"\"\"\n",
    "    basis = np.zeros([order + 1, order + 1])\n",
    "    basis[:,0] = 1\n",
    "    basis[:,1] = xvals\n",
    "    for i in range(1, order):\n",
    "        basis[:, i + 1] = 2 * xvals * basis[:, i] - basis[:, i - 1]\n",
    "    return basis\n",
    "\n",
    "def chebyshev_polyfit(func, order=5, start=-1, end=1):\n",
    "    \"\"\"\n",
    "    Fit a function using a Chebyshev polynomial of a given order.\n",
    "    \n",
    "    Parameters\n",
    "    ----------\n",
    "    func: callable\n",
    "        Function to be fit by the polynomial.\n",
    "    order: int, optional\n",
    "        Highest order term in the fit. Default 5.\n",
    "        \n",
    "    Returns\n",
    "    -------\n",
    "    coeffs: ndarray\n",
    "        Coefficients for the best-fit Chebyshev polynomial to the data.\n",
    "    \"\"\"\n",
    "    xvals = np.linspace(start, end, order + 1)\n",
    "    yvals = func(xvals)\n",
    "    \n",
    "    # put an explanatory comment here\n",
    "    basis = build_cheb_basis(xvals, order)\n",
    "    coeffs = np.linalg.inv(basis) @ yvals\n",
    "    return coeffs"
   ]
  },
  {
   "cell_type": "code",
   "execution_count": 78,
   "metadata": {},
   "outputs": [],
   "source": [
    "coeffs = chebyshev_polyfit(np.log2, order=5, start=0.5)"
   ]
  },
  {
   "cell_type": "code",
   "execution_count": 79,
   "metadata": {},
   "outputs": [],
   "source": [
    "func = np.cos\n",
    "coeffs = chebyshev_polyfit(func, order=30)"
   ]
  },
  {
   "cell_type": "code",
   "execution_count": 85,
   "metadata": {},
   "outputs": [
    {
     "ename": "ValueError",
     "evalue": "could not broadcast input array from shape (1000) into shape (31)",
     "output_type": "error",
     "traceback": [
      "\u001b[0;31m---------------------------------------------------------------------------\u001b[0m",
      "\u001b[0;31mValueError\u001b[0m                                Traceback (most recent call last)",
      "\u001b[0;32m<ipython-input-85-3de060e4f7a8>\u001b[0m in \u001b[0;36m<module>\u001b[0;34m\u001b[0m\n\u001b[1;32m      1\u001b[0m \u001b[0mxvals\u001b[0m \u001b[0;34m=\u001b[0m \u001b[0mnp\u001b[0m\u001b[0;34m.\u001b[0m\u001b[0mlinspace\u001b[0m\u001b[0;34m(\u001b[0m\u001b[0;34m-\u001b[0m\u001b[0;36m1\u001b[0m\u001b[0;34m,\u001b[0m \u001b[0;36m1.0\u001b[0m\u001b[0;34m,\u001b[0m \u001b[0;36m1000\u001b[0m\u001b[0;34m)\u001b[0m\u001b[0;34m\u001b[0m\u001b[0;34m\u001b[0m\u001b[0m\n\u001b[0;32m----> 2\u001b[0;31m \u001b[0mbasis\u001b[0m \u001b[0;34m=\u001b[0m \u001b[0mbuild_cheb_basis\u001b[0m\u001b[0;34m(\u001b[0m\u001b[0mxvals\u001b[0m\u001b[0;34m,\u001b[0m \u001b[0mcoeffs\u001b[0m\u001b[0;34m.\u001b[0m\u001b[0msize\u001b[0m \u001b[0;34m-\u001b[0m \u001b[0;36m1\u001b[0m\u001b[0;34m)\u001b[0m\u001b[0;34m\u001b[0m\u001b[0;34m\u001b[0m\u001b[0m\n\u001b[0m\u001b[1;32m      3\u001b[0m \u001b[0my_true\u001b[0m \u001b[0;34m=\u001b[0m \u001b[0mfunc\u001b[0m\u001b[0;34m(\u001b[0m\u001b[0mxvals\u001b[0m\u001b[0;34m)\u001b[0m\u001b[0;34m\u001b[0m\u001b[0;34m\u001b[0m\u001b[0m\n\u001b[1;32m      4\u001b[0m \u001b[0my_est\u001b[0m \u001b[0;34m=\u001b[0m \u001b[0mbasis\u001b[0m \u001b[0;34m@\u001b[0m \u001b[0mcoeffs\u001b[0m\u001b[0;34m\u001b[0m\u001b[0;34m\u001b[0m\u001b[0m\n",
      "\u001b[0;32m<ipython-input-77-ae7013cd05f4>\u001b[0m in \u001b[0;36mbuild_cheb_basis\u001b[0;34m(xvals, order)\u001b[0m\n\u001b[1;32m      5\u001b[0m     \u001b[0mbasis\u001b[0m \u001b[0;34m=\u001b[0m \u001b[0mnp\u001b[0m\u001b[0;34m.\u001b[0m\u001b[0mzeros\u001b[0m\u001b[0;34m(\u001b[0m\u001b[0;34m[\u001b[0m\u001b[0morder\u001b[0m \u001b[0;34m+\u001b[0m \u001b[0;36m1\u001b[0m\u001b[0;34m,\u001b[0m \u001b[0morder\u001b[0m \u001b[0;34m+\u001b[0m \u001b[0;36m1\u001b[0m\u001b[0;34m]\u001b[0m\u001b[0;34m)\u001b[0m\u001b[0;34m\u001b[0m\u001b[0;34m\u001b[0m\u001b[0m\n\u001b[1;32m      6\u001b[0m     \u001b[0mbasis\u001b[0m\u001b[0;34m[\u001b[0m\u001b[0;34m:\u001b[0m\u001b[0;34m,\u001b[0m\u001b[0;36m0\u001b[0m\u001b[0;34m]\u001b[0m \u001b[0;34m=\u001b[0m \u001b[0;36m1\u001b[0m\u001b[0;34m\u001b[0m\u001b[0;34m\u001b[0m\u001b[0m\n\u001b[0;32m----> 7\u001b[0;31m     \u001b[0mbasis\u001b[0m\u001b[0;34m[\u001b[0m\u001b[0;34m:\u001b[0m\u001b[0;34m,\u001b[0m \u001b[0;36m1\u001b[0m\u001b[0;34m]\u001b[0m \u001b[0;34m=\u001b[0m \u001b[0mxvals\u001b[0m\u001b[0;34m\u001b[0m\u001b[0;34m\u001b[0m\u001b[0m\n\u001b[0m\u001b[1;32m      8\u001b[0m     \u001b[0;32mfor\u001b[0m \u001b[0mi\u001b[0m \u001b[0;32min\u001b[0m \u001b[0mrange\u001b[0m\u001b[0;34m(\u001b[0m\u001b[0;36m1\u001b[0m\u001b[0;34m,\u001b[0m \u001b[0morder\u001b[0m\u001b[0;34m)\u001b[0m\u001b[0;34m:\u001b[0m\u001b[0;34m\u001b[0m\u001b[0;34m\u001b[0m\u001b[0m\n\u001b[1;32m      9\u001b[0m         \u001b[0mbasis\u001b[0m\u001b[0;34m[\u001b[0m\u001b[0;34m:\u001b[0m\u001b[0;34m,\u001b[0m \u001b[0mi\u001b[0m \u001b[0;34m+\u001b[0m \u001b[0;36m1\u001b[0m\u001b[0;34m]\u001b[0m \u001b[0;34m=\u001b[0m \u001b[0;36m2\u001b[0m \u001b[0;34m*\u001b[0m \u001b[0mxvals\u001b[0m \u001b[0;34m*\u001b[0m \u001b[0mbasis\u001b[0m\u001b[0;34m[\u001b[0m\u001b[0;34m:\u001b[0m\u001b[0;34m,\u001b[0m \u001b[0mi\u001b[0m\u001b[0;34m]\u001b[0m \u001b[0;34m-\u001b[0m \u001b[0mbasis\u001b[0m\u001b[0;34m[\u001b[0m\u001b[0;34m:\u001b[0m\u001b[0;34m,\u001b[0m \u001b[0mi\u001b[0m \u001b[0;34m-\u001b[0m \u001b[0;36m1\u001b[0m\u001b[0;34m]\u001b[0m\u001b[0;34m\u001b[0m\u001b[0;34m\u001b[0m\u001b[0m\n",
      "\u001b[0;31mValueError\u001b[0m: could not broadcast input array from shape (1000) into shape (31)"
     ]
    }
   ],
   "source": [
    "xvals = np.linspace(-1, 1.0, 1000)\n",
    "basis = build_cheb_basis(xvals, coeffs.size - 1)\n",
    "y_true = func(xvals)\n",
    "y_est = basis @ coeffs"
   ]
  },
  {
   "cell_type": "code",
   "execution_count": 74,
   "metadata": {},
   "outputs": [
    {
     "data": {
      "text/plain": [
       "[<matplotlib.lines.Line2D at 0x7f426747ceb8>]"
      ]
     },
     "execution_count": 74,
     "metadata": {},
     "output_type": "execute_result"
    },
    {
     "data": {
      "image/png": "[encoded data removed]",
      "text/plain": [
       "<Figure size 432x288 with 1 Axes>"
      ]
     },
     "metadata": {
      "needs_background": "light"
     },
     "output_type": "display_data"
    }
   ],
   "source": [
    "plt.plot(xvals, y_true)\n",
    "plt.plot(xvals, y_est)"
   ]
  },
  {
   "cell_type": "markdown",
   "metadata": {},
   "source": [
    "## Problem 3"
   ]
  },
  {
   "cell_type": "code",
   "execution_count": null,
   "metadata": {},
   "outputs": [],
   "source": []
  },
  {
   "cell_type": "markdown",
   "metadata": {},
   "source": [
    "### Part a"
   ]
  },
  {
   "cell_type": "code",
   "execution_count": null,
   "metadata": {},
   "outputs": [],
   "source": []
  },
  {
   "cell_type": "markdown",
   "metadata": {},
   "source": [
    "### Part b"
   ]
  },
  {
   "cell_type": "code",
   "execution_count": null,
   "metadata": {},
   "outputs": [],
   "source": []
  }
 ],
 "metadata": {
  "kernelspec": {
   "display_name": "Python 3",
   "language": "python",
   "name": "python3"
  },
  "language_info": {
   "codemirror_mode": {
    "name": "ipython",
    "version": 3
   },
   "file_extension": ".py",
   "mimetype": "text/x-python",
   "name": "python",
   "nbconvert_exporter": "python",
   "pygments_lexer": "ipython3",
   "version": "3.7.3"
  },
  "toc": {
   "base_numbering": 1,
   "nav_menu": {},
   "number_sections": false,
   "sideBar": true,
   "skip_h1_title": false,
   "title_cell": "Table of Contents",
   "title_sidebar": "Contents",
   "toc_cell": false,
   "toc_position": {},
   "toc_section_display": true,
   "toc_window_display": false
  }
 },
 "nbformat": 4,
 "nbformat_minor": 2
}
